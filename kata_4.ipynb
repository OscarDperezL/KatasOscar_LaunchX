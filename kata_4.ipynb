{
 "cells": [
  {
   "cell_type": "markdown",
   "metadata": {},
   "source": [
    "# Transformacion de cadenas"
   ]
  },
  {
   "cell_type": "code",
   "execution_count": 27,
   "metadata": {},
   "outputs": [
    {
     "name": "stdout",
     "output_type": "stream",
     "text": [
      "['Interesting facts about the Moon', \" The Moon is Earth's only satellite\", ' There are several interesting facts about the Moon and how it affects life here on Earth', ' \\nOn average, the Moon moves 4cm away from the Earth every year', ' C This yearly drift is not significant enough to cause immediate effects on Earth', ' The highest dayli ']\n",
      " The Moon is Earth's only satellite \n",
      "\n",
      " There are several interesting facts about the Moon and how it affects life here on Earth \n",
      "\n",
      " C This yearly drift is not significant enough to cause immediate effects on Earth \n",
      "\n",
      " The highest dayli  \n",
      "\n",
      "Interesting facts about the Moon\n",
      " The Moon is Earth's only satellite\n",
      " There are several interesting facts about the Moon and how it affects life here on Earth\n",
      " Celsius This yearly drift is not significant enough to cause immediate effects on Earth\n",
      " The highest dayli \n"
     ]
    }
   ],
   "source": [
    "text = \"\"\"Interesting facts about the Moon. The Moon is Earth's only satellite. There are several interesting facts about the Moon and how it affects life here on Earth. \n",
    "On average, the Moon moves 4cm away from the Earth every year. C This yearly drift is not significant enough to cause immediate effects on Earth. The highest dayli \"\"\"\n",
    "\n",
    "division=text.split('.')\n",
    "print(division)\n",
    "\n",
    "palabras_clave=[\"average\", \"temperature\", \"distance\"]\n",
    "for i in division:\n",
    "    for palabras_clave in palabras_clave:\n",
    "        if palabras_clave in i:\n",
    "            print(i, \"\\n\")\n",
    "            break\n",
    "\n",
    "for j in division:\n",
    "    for palabras_clave in palabras_clave:\n",
    "        if palabras_clave in j:\n",
    "            print(j.replace(' C', ' Celsius'))\n",
    "            break\n"
   ]
  },
  {
   "cell_type": "markdown",
   "metadata": {},
   "source": [
    "# Formateando Cadenas"
   ]
  },
  {
   "cell_type": "code",
   "execution_count": 40,
   "metadata": {},
   "outputs": [
    {
     "name": "stdout",
     "output_type": "stream",
     "text": [
      "Gravedad En La Luna \n",
      "-------------------------------------------------------------------------------- \n",
      "Nombre del Planeta: Earth\n",
      "Gravedad en Luna:1.6199999999999999ms/2 \n",
      "\n"
     ]
    }
   ],
   "source": [
    "nombre = \"Luna\"\n",
    "gravedad = 0.00162 # in kms\n",
    "planeta = \"Earth\"\n",
    "\n",
    "title=f'Gravedad en la {name}'\n",
    "\n",
    "\n",
    "plantilla=f\"\"\"{'-'*80} \n",
    "Nombre del Planeta: {planeta}\n",
    "Gravedad en {nombre}:{gravedad*1000}ms/2\"\"\"\n",
    "\n",
    "template = f\"\"\"{title.title()} \n",
    "{plantilla} \n",
    "\"\"\" \n",
    "print(template)"
   ]
  }
 ],
 "metadata": {
  "interpreter": {
   "hash": "0a9859cedd29aa34475df7efe6d530fc5e0678f1d1e278a30cbc00658c0e7fc7"
  },
  "kernelspec": {
   "display_name": "Python 3.10.2 64-bit (windows store)",
   "language": "python",
   "name": "python3"
  },
  "language_info": {
   "codemirror_mode": {
    "name": "ipython",
    "version": 3
   },
   "file_extension": ".py",
   "mimetype": "text/x-python",
   "name": "python",
   "nbconvert_exporter": "python",
   "pygments_lexer": "ipython3",
   "version": "3.10.2"
  },
  "orig_nbformat": 4
 },
 "nbformat": 4,
 "nbformat_minor": 2
}
