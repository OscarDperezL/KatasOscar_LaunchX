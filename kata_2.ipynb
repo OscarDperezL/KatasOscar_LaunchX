{
 "cells": [
  {
   "cell_type": "markdown",
   "metadata": {},
   "source": [
    "# Entorno Virtual"
   ]
  },
  {
   "cell_type": "code",
   "execution_count": null,
   "metadata": {},
   "outputs": [],
   "source": [
    "cd C:\\Users\\PL\\Desktop\\katas \n",
    "python3 -m venv env\n",
    "env\\Scripts\\activate\n",
    "pip freeze\n",
    "pip install python-dateutil\n",
    "pip freeze\n",
    "python-dateutil==2.8.2\n",
    "six==1.16.0\n",
    "deactivate"
   ]
  }
 ],
 "metadata": {
  "interpreter": {
   "hash": "0a9859cedd29aa34475df7efe6d530fc5e0678f1d1e278a30cbc00658c0e7fc7"
  },
  "kernelspec": {
   "display_name": "Python 3.10.2 64-bit (windows store)",
   "language": "python",
   "name": "python3"
  },
  "language_info": {
   "name": "python",
   "version": "3.10.2"
  },
  "orig_nbformat": 4
 },
 "nbformat": 4,
 "nbformat_minor": 2
}
