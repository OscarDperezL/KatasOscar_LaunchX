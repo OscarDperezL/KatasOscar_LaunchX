{
 "cells": [
  {
   "cell_type": "markdown",
   "metadata": {},
   "source": [
    "# Trabajar con argumentos en funciones"
   ]
  },
  {
   "cell_type": "code",
   "execution_count": 8,
   "metadata": {},
   "outputs": [
    {
     "name": "stdout",
     "output_type": "stream",
     "text": [
      "Reporte de combustibles:\n",
      "    Promedio total: 22.0%\n",
      "    Tanque1: 20%\n",
      "    Tanque2: 34%\n",
      "    Tanque3: 12%\n"
     ]
    }
   ],
   "source": [
    "def combustibles(tanque1,tanque2,tanque3):\n",
    "    promedio=(tanque1+tanque2+tanque3)/3\n",
    "\n",
    "    return f\"\"\"Reporte de combustibles:\n",
    "    Promedio total: {promedio}%\n",
    "    Tanque1: {tanque1}%\n",
    "    Tanque2: {tanque2}%\n",
    "    Tanque3: {tanque3}%\"\"\"\n",
    "    \n",
    "print(combustibles(20,34,12))"
   ]
  },
  {
   "cell_type": "markdown",
   "metadata": {},
   "source": [
    "# Trabajo con argumentos de palabra clave\n"
   ]
  },
  {
   "cell_type": "code",
   "execution_count": 43,
   "metadata": {},
   "outputs": [
    {
     "name": "stdout",
     "output_type": "stream",
     "text": [
      "Mision con destino a Venus\n",
      "   Tiempo total de vuelo= 18 minutos\n",
      "   Combustible restante= 1500 litros \n",
      "   externo quedan 1000 litros interno quedan 500 litros \n"
     ]
    }
   ],
   "source": [
    "#def mision(tiempo_prelanzamiento, tiempo_vuelo, destino, tanque_externo, tanque_interno):\n",
    "#    return f\"\"\"Mision con destino a {destino}\n",
    "#Tiempo total de vuelo= {tiempo_prelanzamiento + tiempo_vuelo}\n",
    "#Combustible restante= {tanque_externo + tanque_interno}\"\"\"\n",
    "\n",
    "#print(mision(35,23, 'Marte', 34, 109))\n",
    "\n",
    "def mision(destino, *minutos, **reservas_combustible):\n",
    "   informe= f\"\"\"Mision con destino a {destino}\n",
    "   Tiempo total de vuelo= {sum(minutos)} minutos\n",
    "   Combustible restante= {sum(reservas_combustible.values())} litros \n",
    "   \"\"\"\n",
    "   \n",
    "   for Nombre_Tanque, litros in reservas_combustible.items():\n",
    "       informe += f\"{Nombre_Tanque} quedan {litros} litros \"\n",
    "   return informe\n",
    "\n",
    "\n",
    "print(mision(\"Venus\",5,6,7,externo=1000, interno=500))\n"
   ]
  }
 ],
 "metadata": {
  "interpreter": {
   "hash": "0a9859cedd29aa34475df7efe6d530fc5e0678f1d1e278a30cbc00658c0e7fc7"
  },
  "kernelspec": {
   "display_name": "Python 3.10.2 64-bit (windows store)",
   "language": "python",
   "name": "python3"
  },
  "language_info": {
   "codemirror_mode": {
    "name": "ipython",
    "version": 3
   },
   "file_extension": ".py",
   "mimetype": "text/x-python",
   "name": "python",
   "nbconvert_exporter": "python",
   "pygments_lexer": "ipython3",
   "version": "3.10.2"
  },
  "orig_nbformat": 4
 },
 "nbformat": 4,
 "nbformat_minor": 2
}
