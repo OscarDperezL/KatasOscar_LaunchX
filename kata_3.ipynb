{
 "cells": [
  {
   "cell_type": "markdown",
   "metadata": {},
   "source": [
    "# Advertencia de Asteroide"
   ]
  },
  {
   "cell_type": "code",
   "execution_count": 2,
   "metadata": {},
   "outputs": [
    {
     "name": "stdout",
     "output_type": "stream",
     "text": [
      "Advertencia el asteroide esta yendo muy rapido\n"
     ]
    }
   ],
   "source": [
    "Velocidad_asteroide=28\n",
    "advertencia=0\n",
    "\n",
    "if Velocidad_asteroide>25:\n",
    "    print(\"Advertencia el asteroide esta yendo muy rapido\")\n",
    "else:\n",
    "    print(\"La tierra está a salvo\")"
   ]
  },
  {
   "cell_type": "markdown",
   "metadata": {},
   "source": [
    "# Ejercicio 2"
   ]
  },
  {
   "cell_type": "code",
   "execution_count": 9,
   "metadata": {},
   "outputs": [
    {
     "name": "stdout",
     "output_type": "stream",
     "text": [
      " No es posible ver el asteroide ya que va a una velocidad de 1 km/s\n"
     ]
    }
   ],
   "source": [
    "Velocidad_asteroide=1\n",
    "if Velocidad_asteroide>19:\n",
    "    print(\"Observa el cielo, para buscar el asteroide\")\n",
    "elif Velocidad_asteroide==19:\n",
    "     print(\"Observa el cielo, para buscar el asteroide\")\n",
    "else:\n",
    "    print(\" No es posible ver el asteroide ya que va a una velocidad de \" +str(Velocidad_asteroide), \"km/s\")"
   ]
  },
  {
   "cell_type": "markdown",
   "metadata": {},
   "source": [
    "# Ejercicio 3"
   ]
  },
  {
   "cell_type": "code",
   "execution_count": 21,
   "metadata": {},
   "outputs": [
    {
     "name": "stdout",
     "output_type": "stream",
     "text": [
      "Observa el cielo, para buscar el asteroide\n"
     ]
    }
   ],
   "source": [
    "dimension_asteroide=50\n",
    "Velocidad_asteroide=20\n",
    "if dimension_asteroide>25 and Velocidad_asteroide>25:\n",
    "    print(\"Peligro, colisión inminente\")\n",
    "elif Velocidad_asteroide>=20:\n",
    "    print(\"Observa el cielo, para buscar el asteroide\")\n",
    "elif dimension_asteroide<25:\n",
    "    print(\"Todo esta bajo control\")\n",
    "else:\n",
    "    print(\"Todo esta bajo control\")"
   ]
  }
 ],
 "metadata": {
  "interpreter": {
   "hash": "0a9859cedd29aa34475df7efe6d530fc5e0678f1d1e278a30cbc00658c0e7fc7"
  },
  "kernelspec": {
   "display_name": "Python 3.10.2 64-bit (windows store)",
   "language": "python",
   "name": "python3"
  },
  "language_info": {
   "codemirror_mode": {
    "name": "ipython",
    "version": 3
   },
   "file_extension": ".py",
   "mimetype": "text/x-python",
   "name": "python",
   "nbconvert_exporter": "python",
   "pygments_lexer": "ipython3",
   "version": "3.10.2"
  },
  "orig_nbformat": 4
 },
 "nbformat": 4,
 "nbformat_minor": 2
}
