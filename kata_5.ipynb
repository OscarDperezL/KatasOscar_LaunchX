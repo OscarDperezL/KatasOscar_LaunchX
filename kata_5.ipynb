{
 "cells": [
  {
   "cell_type": "code",
   "execution_count": null,
   "metadata": {},
   "outputs": [],
   "source": []
  },
  {
   "cell_type": "markdown",
   "metadata": {},
   "source": [
    "# Operadores Aritméticos"
   ]
  },
  {
   "cell_type": "code",
   "execution_count": 7,
   "metadata": {},
   "outputs": [
    {
     "name": "stdout",
     "output_type": "stream",
     "text": [
      "628949330 Kilometros\n",
      "390577533.93 Millas\n"
     ]
    }
   ],
   "source": [
    "Distancia_Tierra=149597870\n",
    "Distancia_Jupiter=778547200\n",
    "\n",
    "\n",
    "Distancia=Distancia_Jupiter-Distancia_Tierra\n",
    "Distancia_millas=Distancia*0.621\n",
    "\n",
    "print(Distancia, \"Kilometros\")\n",
    "print(Distancia_millas, \"Millas\")\n"
   ]
  },
  {
   "cell_type": "markdown",
   "metadata": {},
   "source": [
    "# Cadenas en números y sus valores absolutos"
   ]
  },
  {
   "cell_type": "code",
   "execution_count": 9,
   "metadata": {},
   "outputs": [
    {
     "name": "stdout",
     "output_type": "stream",
     "text": [
      "3 Kilometros\n",
      "1.863 Millas\n"
     ]
    }
   ],
   "source": [
    "distancia1=input(\"Ingresa la primer distancia:\")\n",
    "distancia2=input(\"Ingresa la segunda distancia:\")\n",
    "\n",
    "\n",
    "d1=int(distancia1)\n",
    "d2=int(distancia2)\n",
    "\n",
    "distancia= d2-d1\n",
    "distancia_millas=distancia*0.621\n",
    "\n",
    "print(abs(distancia), \"Kilometros\")\n",
    "print(abs(distancia_millas), \"Millas\")\n",
    "\n",
    "\n",
    "\n"
   ]
  }
 ],
 "metadata": {
  "interpreter": {
   "hash": "0a9859cedd29aa34475df7efe6d530fc5e0678f1d1e278a30cbc00658c0e7fc7"
  },
  "kernelspec": {
   "display_name": "Python 3.10.2 64-bit (windows store)",
   "language": "python",
   "name": "python3"
  },
  "language_info": {
   "codemirror_mode": {
    "name": "ipython",
    "version": 3
   },
   "file_extension": ".py",
   "mimetype": "text/x-python",
   "name": "python",
   "nbconvert_exporter": "python",
   "pygments_lexer": "ipython3",
   "version": "3.10.2"
  },
  "orig_nbformat": 4
 },
 "nbformat": 4,
 "nbformat_minor": 2
}
