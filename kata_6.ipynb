{
 "cells": [
  {
   "cell_type": "markdown",
   "metadata": {},
   "source": [
    "# Listas"
   ]
  },
  {
   "cell_type": "code",
   "execution_count": 9,
   "metadata": {},
   "outputs": [
    {
     "name": "stdout",
     "output_type": "stream",
     "text": [
      "Hay 8 planetas\n",
      "Pluto  Es el ultimo planeta\n"
     ]
    }
   ],
   "source": [
    "planets = ['Mercury', 'Venus', 'Earth', 'Mars', 'Jupiter', 'Saturn', 'Neptune', 'Uranus']\n",
    "numero_planetas=len(planets)\n",
    "\n",
    "print(\"Hay \" + str(numero_planetas), \"planetas\")\n",
    "\n",
    "planets.append('Pluto')\n",
    "print(planets[-1], \" Es el ultimo planeta\")"
   ]
  },
  {
   "cell_type": "markdown",
   "metadata": {},
   "source": [
    "# Datos de una lista"
   ]
  },
  {
   "cell_type": "code",
   "execution_count": 18,
   "metadata": {},
   "outputs": [
    {
     "name": "stdout",
     "output_type": "stream",
     "text": [
      "1\n",
      "Planetas mas lejos del sol ['Earth', 'Mars', 'Jupiter', 'Saturn', 'Neptune', 'Uranus']\n",
      "Planetas mas cercanos al sol ['Mercury']\n"
     ]
    }
   ],
   "source": [
    "planets = ['Mercury', 'Venus', 'Earth', 'Mars', 'Jupiter', 'Saturn', 'Neptune', 'Uranus']\n",
    "planeta_usuario=input(\"Ingresa el nombre de un planeta: \")\n",
    "\n",
    "indice_planeta=planets.index(planeta_usuario)\n",
    "\n",
    "print(indice_planeta)\n",
    "\n",
    "print(\"Planetas mas lejos del sol\", planets[indice_planeta+1:])\n",
    "print(\"Planetas mas cercanos al sol\", planets[0:indice_planeta])"
   ]
  }
 ],
 "metadata": {
  "interpreter": {
   "hash": "0a9859cedd29aa34475df7efe6d530fc5e0678f1d1e278a30cbc00658c0e7fc7"
  },
  "kernelspec": {
   "display_name": "Python 3.10.2 64-bit (windows store)",
   "language": "python",
   "name": "python3"
  },
  "language_info": {
   "codemirror_mode": {
    "name": "ipython",
    "version": 3
   },
   "file_extension": ".py",
   "mimetype": "text/x-python",
   "name": "python",
   "nbconvert_exporter": "python",
   "pygments_lexer": "ipython3",
   "version": "3.10.2"
  },
  "orig_nbformat": 4
 },
 "nbformat": 4,
 "nbformat_minor": 2
}
